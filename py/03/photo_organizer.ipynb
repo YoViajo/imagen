{
 "cells": [
  {
   "cell_type": "markdown",
   "metadata": {},
   "source": [
    "https://python.plainenglish.io/create-a-photo-organizer-in-1-hour-with-python-9d4b82552f21\n",
    "\n",
    "## Create a Photo Organizer in 1 hour with Python\n",
    "\n",
    "Busca fotos y las reordena en una estructura de fotos por <año-mes>. Las fotos son renombradas según <fecha-hora> extraida del metadato interno EXIF"
   ]
  },
  {
   "cell_type": "code",
   "execution_count": 5,
   "metadata": {},
   "outputs": [],
   "source": [
    "import os\n",
    "from PIL import Image\n",
    "from PIL.ExifTags import TAGS\n",
    "import shutil\n",
    "import time"
   ]
  },
  {
   "cell_type": "code",
   "execution_count": 6,
   "metadata": {},
   "outputs": [],
   "source": [
    "# This is your original photo folder\n",
    "localPath = '/home/yoviajo/Documentos/lab/proy/imgs/f/orig'\n",
    "destinationPath = '/home/yoviajo/Documentos/lab/proy/imgs/f/proc'\n",
    "_TAGS_r = dict(((v, k) for k, v in TAGS.items()))\n",
    "totalFiles = 0\n",
    "processedPhotos = 0\n",
    "notPhotos = 0"
   ]
  },
  {
   "cell_type": "code",
   "execution_count": 7,
   "metadata": {},
   "outputs": [],
   "source": [
    "def processPhoto(photoPath):\n",
    "    global processedPhotos, notPhotos\n",
    "    try:\n",
    "        with Image.open(photoPath) as im:\n",
    "            exif_data_PIL = im._getexif()\n",
    "            # print(_TAGS_r[\"DateTimeOriginal\"])\n",
    "            if exif_data_PIL is not None:\n",
    "                if exif_data_PIL[_TAGS_r[\"DateTimeOriginal\"]] is not None:\n",
    "                    fileDate = exif_data_PIL[_TAGS_r[\"DateTimeOriginal\"]]\n",
    "                    if fileDate != '' and len(fileDate) > 10:\n",
    "                        fileDate = fileDate.replace(\":\", \"\")\n",
    "                        # my destination folders are named as YYYYMM\n",
    "                        destinationFolder = fileDate[:6]\n",
    "                        # if destination folder does not exist, create one\n",
    "                        if not os.path.isdir(os.path.abspath(os.path.join(destinationPath, destinationFolder))):\n",
    "                            os.mkdir(os.path.abspath(os.path.join(destinationPath, destinationFolder)))\n",
    "                        # new name of the photo\n",
    "                        newPhotoName = os.path.abspath(os.path.join(destinationPath, destinationFolder, fileDate + '.' + im.format))\n",
    "                        # print(newPhotoName)\n",
    "                        im.close()\n",
    "                        shutil.move(photoPath, newPhotoName)\n",
    "                        processedPhotos += 1\n",
    "                        print(\"\\r%d photos processed, %d not processed\" % (processedPhotos, notPhotos), end='')\n",
    "            else:\n",
    "                notPhotos += 1\n",
    "                print(\"\\r%d photos processed, %d not processed\" % (processedPhotos, notPhotos), end='')\n",
    "    except IOError as err:\n",
    "        notPhotos += 1\n",
    "        print(\"\\r%d photos processed, %d not processed\" % (processedPhotos, notPhotos), end='')\n",
    "        pass\n",
    "    except KeyError:\n",
    "        notPhotos += 1\n",
    "        pass\n",
    "\n",
    "def processFolder(folderPath, countOnly):\n",
    "    global totalFiles\n",
    "    for file in os.listdir(folderPath):\n",
    "        # print(file)\n",
    "        # read all files and folder\n",
    "        fileNameIn = os.path.abspath(os.path.join(folderPath, file))\n",
    "        # print(fileNameIn)\n",
    "        # if this is a folder, read all files inside\n",
    "        if os.path.isdir(fileNameIn):\n",
    "            processFolder(fileNameIn, countOnly)\n",
    "        # if it's file, process it as a photo\n",
    "        else:\n",
    "            if countOnly:\n",
    "                totalFiles +=1\n",
    "            else:\n",
    "                processPhoto(fileNameIn)"
   ]
  },
  {
   "cell_type": "code",
   "execution_count": 8,
   "metadata": {},
   "outputs": [
    {
     "name": "stdout",
     "output_type": "stream",
     "text": [
      "There are total 3534 files\n",
      "2913 photos processed, 621 not processed\n",
      "There are 2913 photos processed, 621 not processed\n",
      "Time used: 242.6949 seconds\n"
     ]
    }
   ],
   "source": [
    "def main(argv=None):\n",
    "    tic = time.perf_counter()\n",
    "    processFolder(localPath, True)\n",
    "    print(\"There are total %d files\" % totalFiles)\n",
    "    processFolder(localPath, False)\n",
    "    print(\"\\nThere are %d photos processed, %d not processed\" % (processedPhotos, notPhotos))\n",
    "    toc = time.perf_counter()\n",
    "    print(f\"Time used: {toc - tic:0.4f} seconds\")\n",
    "\n",
    "\n",
    "if __name__ == \"__main__\":\n",
    "    main()"
   ]
  }
 ],
 "metadata": {
  "interpreter": {
   "hash": "99e1c0d4bf96e8e644c7d3d9b2dd686c22b71eb1d36b8f5d25ad4b4c1a6ccac3"
  },
  "kernelspec": {
   "display_name": "Python 3.9.7 ('img_env')",
   "language": "python",
   "name": "python3"
  },
  "language_info": {
   "codemirror_mode": {
    "name": "ipython",
    "version": 3
   },
   "file_extension": ".py",
   "mimetype": "text/x-python",
   "name": "python",
   "nbconvert_exporter": "python",
   "pygments_lexer": "ipython3",
   "version": "3.9.7"
  },
  "orig_nbformat": 4
 },
 "nbformat": 4,
 "nbformat_minor": 2
}
